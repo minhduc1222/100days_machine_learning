{
 "cells": [
  {
   "cell_type": "markdown",
   "metadata": {},
   "source": [
    "the sum of diagonal elements is called the trace of a matrix"
   ]
  },
  {
   "cell_type": "markdown",
   "metadata": {},
   "source": [
    "# trace of a matrix\n",
    "# https://www.geeksforgeeks.org/trace-of-a-matrix/\n",
    "\n",
    "Table of Content\n",
    "\n",
    "Square Matrix\n",
    "What is Trace of a Matrix?\n",
    "Trace of a Matrix – Properties\n",
    "Trace of a Matrix Examples"
   ]
  },
  {
   "cell_type": "markdown",
   "metadata": {},
   "source": [
    "# Trace of a matrix :\n",
    "    tr(A) = a11 + a22 + a33+ ……….+ ann "
   ]
  },
  {
   "cell_type": "markdown",
   "metadata": {},
   "source": [
    "#    m x n matrix: m for rows and n for columns\n"
   ]
  },
  {
   "cell_type": "markdown",
   "metadata": {},
   "source": [
    "# What is Trace of a Matrix?\n",
    "    the sum of the principal diagonal elements of a square matrix\n"
   ]
  },
  {
   "cell_type": "markdown",
   "metadata": {},
   "source": [
    "Trace of a Matrix – Properties\n",
    "\n",
    "# The sum of the traces of the matrix A and the matrix B is equal to the trace of the matrix that is obtained by the sum of the matrices A and B\n",
    "\n",
    "    tr(A) + tr(B) = tr (A + B) \n",
    "\n",
    "# The trace of a given matrix and its transpose (turning all the rows of a matrix into columns and vice-versa) are the same.\n",
    "    tr(A) = tr (A^T)\n",
    "\n",
    "# If A is any square matrix of order “n × n” and k is a scalar, then\n",
    "    tr(kA) = k Tr(A)\n",
    "\n",
    "*scalar: single number (real or complex) used to scale a matrix( boi so vo huong)\n",
    "\n",
    "# If A is a matrix of order “m × n” and B is a matrix of order “n × m,” then the trace of AB is equal to the trace of BA.\n",
    "    tr (AB) = tr (BA)\n",
    "\n",
    "# The trace of an identity matrix of order “n × n” is n.\n",
    "    tr(In) = n\n",
    "\n",
    "# The trace of a zero or null matrix of any order is zero.\n",
    "    tr(O) = 0\n"
   ]
  },
  {
   "cell_type": "markdown",
   "metadata": {},
   "source": [
    "# Solution of a system of linear equations: \n",
    "Linear equations can have three kind of possible solutions:  \n",
    "\n",
    "    No Solution\n",
    "    Unique Solution\n",
    "    Infinite Solution"
   ]
  },
  {
   "cell_type": "markdown",
   "metadata": {},
   "source": [
    "# Rank of a matrix:\n",
    "\n",
    "Rank of matrix is the number of non-zero rows in the row reduced form or the maximum number of independent rows or the maximum number of independent columns."
   ]
  },
  {
   "cell_type": "markdown",
   "metadata": {},
   "source": [
    "# https://byjus.com/jee/rank-of-a-matrix-and-special-matrices/\n",
    "\n",
    "# https://www.statlect.com/matrix-algebra/row-echelon-form#:~:text=A%20matrix%20is%20said%20to,it%20are%20equal%20to%20zero.\n",
    "\n",
    "# A non-zero matrix is said to be in a row-echelon form  if  \n",
    "    all zero rows occur as bottom rows of the matrix and \n",
    "\n",
    "    the first non-zero element in any lower row occurs to the right of the first non-zero entry in the higher row. \n",
    "\n",
    "A = [2  1   0]\n",
    "    [0  1   1]\n",
    "    [0  0   1]\n",
    "    [0  0   0]\n",
    "\n",
    "A (11) A(22) A (33) are pivot"
   ]
  },
  {
   "cell_type": "markdown",
   "metadata": {},
   "source": []
  }
 ],
 "metadata": {
  "language_info": {
   "name": "python"
  }
 },
 "nbformat": 4,
 "nbformat_minor": 2
}
