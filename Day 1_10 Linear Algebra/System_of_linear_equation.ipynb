{
 "cells": [
  {
   "cell_type": "markdown",
   "metadata": {},
   "source": [
    "the sum of diagonal elements is called the trace of a matrix"
   ]
  },
  {
   "cell_type": "markdown",
   "metadata": {},
   "source": [
    "# trace of a matrix\n",
    "# https://www.geeksforgeeks.org/trace-of-a-matrix/\n",
    "\n",
    "Table of Content\n",
    "\n",
    "Square Matrix\n",
    "What is Trace of a Matrix?\n",
    "Trace of a Matrix – Properties\n",
    "Trace of a Matrix Examples"
   ]
  },
  {
   "cell_type": "markdown",
   "metadata": {},
   "source": [
    "# Trace of a matrix :\n",
    "    tr(A) = a11 + a22 + a33+ ……….+ ann "
   ]
  },
  {
   "cell_type": "markdown",
   "metadata": {},
   "source": [
    "#    m x n matrix: m for rows and n for columns\n"
   ]
  },
  {
   "cell_type": "markdown",
   "metadata": {},
   "source": [
    "# What is Trace of a Matrix?\n",
    "    the sum of the principal diagonal elements of a square matrix\n"
   ]
  },
  {
   "cell_type": "markdown",
   "metadata": {},
   "source": [
    "Trace of a Matrix – Properties\n",
    "\n",
    "# The sum of the traces of the matrix A and the matrix B is equal to the trace of the matrix that is obtained by the sum of the matrices A and B\n",
    "\n",
    "    tr(A) + tr(B) = tr (A + B) \n",
    "\n",
    "# The trace of a given matrix and its transpose (turning all the rows of a matrix into columns and vice-versa) are the same.\n",
    "    tr(A) = tr (A^T)\n",
    "\n",
    "# If A is any square matrix of order “n × n” and k is a scalar, then\n",
    "    tr(kA) = k Tr(A)\n",
    "\n",
    "*scalar: single number (real or complex) used to scale a matrix( boi so vo huong)\n",
    "\n",
    "# If A is a matrix of order “m × n” and B is a matrix of order “n × m,” then the trace of AB is equal to the trace of BA.\n",
    "    tr (AB) = tr (BA)\n",
    "\n",
    "# The trace of an identity matrix of order “n × n” is n.\n",
    "    tr(In) = n\n",
    "\n",
    "# The trace of a zero or null matrix of any order is zero.\n",
    "    tr(O) = 0\n"
   ]
  },
  {
   "cell_type": "markdown",
   "metadata": {},
   "source": [
    "# Solution of a system of linear equations: \n",
    "Linear equations can have three kind of possible solutions:  \n",
    "\n",
    "    No Solution\n",
    "    Unique Solution\n",
    "    Infinite Solution"
   ]
  },
  {
   "cell_type": "markdown",
   "metadata": {},
   "source": [
    "# Rank of a matrix:\n",
    "\n",
    "Rank of matrix is the number of non-zero rows in the row reduced form or the maximum number of linearly independent columns (or rows) in the matrix"
   ]
  },
  {
   "cell_type": "markdown",
   "metadata": {},
   "source": [
    "# Rank of a matrix\n",
    "# https://byjus.com/jee/rank-of-a-matrix-and-special-matrices/\n",
    "\n",
    "# row echelon form\n",
    "# https://www.statlect.com/matrix-algebra/row-echelon-form#:~:text=A%20matrix%20is%20said%20to,it%20are%20equal%20to%20zero.\n"
   ]
  },
  {
   "cell_type": "markdown",
   "metadata": {},
   "source": [
    "Rank of matrix is the number of non-zero rows in the row reduced form \n",
    "    ( row reduced form (from row reduction): Perform row operations to bring the matrix to its row echelon form )\n",
    "\n",
    "the maximum number of independent columns. \n",
    "\n",
    "A matrix is said to be of rank r, if\n",
    "    It has at least one square sub-matrices of order r who has non-zero determinant.\n",
    "    All the determinants of square sub-matrices of order (r+1) or higher than r are zero."
   ]
  },
  {
   "cell_type": "markdown",
   "metadata": {},
   "source": [
    "# Rank is denoted as P(A). \n",
    "    if A is a non-singular matrix of order n, then rank of A = n i.e. P(A) = n. \n",
    "\n",
    "# Properties of rank of a matrix:  \n",
    "    If A is a null matrix then P(A) = 0\n",
    "\n",
    "    If In is the nxn unit matrix then P(A) = n.\n",
    "\n",
    "    Rank of a matrix A mxn , P(A) ? min(m,n). Thus P(A) ?m and P(A) ? n.\n",
    "\n",
    "    P(A nxn ) = n if |A| ? 0\n",
    "\n",
    "    If P(A) = m and P(B)=n then P(AB) ? min(m,n).\n",
    "\n",
    "    If A and B are square matrices of order n then P(AB) = P(A) + P(B) – n.\n",
    "\n",
    "    If Am×1 is a non zero column matrix and B1×n is a non zero row matrix then P(AB) = 1.\n",
    "    \n",
    "    The rank of a skew symmetric matrix cannot be equal to one.\n",
    "\n"
   ]
  },
  {
   "cell_type": "markdown",
   "metadata": {},
   "source": [
    "# Rank of matrix\n",
    "# https://byjus.com/maths/rank-of-matrix/#properties\n",
    "\n",
    "    elementary row operation:  solving systems of linear equations and performing matrix transformations\n",
    "        including:\n",
    "            Row Switching, Scalar Multiplication, Row Addition\n",
    "    goal: eliminate certain elements or create zeros in specific positions in the matrix\n",
    "    \n",
    "    solve systems of linear equations and to find the rank and inverse of a matrix. "
   ]
  },
  {
   "cell_type": "markdown",
   "metadata": {},
   "source": [
    "# System of homogeneous linear equations AX = 0.  \n",
    "\n",
    "X = 0. is always a solution; means all the unknowns has same value as zero. (This is also called trivial solution)\n",
    "\n",
    "If P(A) = number of unknowns, unique solution.\n",
    "If P(A) < number of unknowns, infinite number of solutions."
   ]
  },
  {
   "cell_type": "markdown",
   "metadata": {},
   "source": [
    "# System of non-homogeneous linear equations AX = B. \n",
    "\n",
    "If P[A:B] ?P(A), No solution.\n",
    "If P[A:B] = P(A) = the number of unknown variables, unique solution.\n",
    "If P[A:B] = P(A) ? number of unknown, infinite number of solutions. "
   ]
  },
  {
   "cell_type": "markdown",
   "metadata": {},
   "source": [
    "# Here P[A:B] is the rank of Gauss Elimination representation of AX = B. \n",
    "\n",
    "There are two states of the Linear equation system:  \n",
    "\n",
    "Consistent State: A System of equations having one or more solutions is called a consistent system of equations.\n",
    "\n",
    "Inconsistent State: A System of equations having no solutions is called inconsistent system of equations."
   ]
  },
  {
   "cell_type": "markdown",
   "metadata": {},
   "source": [
    "# Linear dependence and Linear independence of vector: \n",
    "\n",
    "Linear Dependence: A set of vectors X1 ,X2 ….Xr is said to be linearly dependent if there exist r scalars k1 ,k2 …..kr such that: k1 X1 + k2X2 +……..kr Xr = 0. \n",
    "\n",
    "Linear Independence: A set of vectors X1 ,X2….Xr is said to be linearly independent if for all r scalars k1,k2 …..kr such that k1X1+ k2 X2+……..krXr = 0, then k1 = k2 =……. = kr = 0. "
   ]
  },
  {
   "cell_type": "markdown",
   "metadata": {},
   "source": [
    "# How to Solve System of Linear Equations?\n",
    "\n",
    "The subsequent techniques for solving the system of linear equations AX = B are viable solely under the condition that the coefficient matrix A is non-singular, meaning |A| ≠ 0.\n",
    "\n",
    "These methods include:\n",
    "\n",
    "    Cramer’s approach ??\n",
    "    Inverse method ??\n",
    "    Gauss-Jordan method ??\n",
    "    Gauss Elimination method\n",
    "    LU Decomposition method of factorization (also known as Method of Triangularization) ??\n",
    "\n",
    "# How to determine linear dependency and independency ? \n",
    "\n",
    "Let X1, X2 ….Xr be the given vectors. Construct a matrix with the given vectors as its rows.  \n",
    "\n",
    "If the rank of the matrix of the given vectors is less than the number of vectors, then the vectors are linearly dependent.\n",
    "If the rank of the matrix of the given vectors is equal to number of vectors, then the vectors are linearly independent.\n",
    "\n",
    "\n",
    "Reference: \n",
    "http://www.dr-eriksen.no/teaching/GRA6035/2010/lecture2-hand.pdf  \n",
    "\n",
    "\"GeeksforGeeks helped me ace the GATE exam! Whenever I had any doubt regarding any topic, GFG always helped me and made my concepts quiet clear.\" - Anshika Modi | AIR 21"
   ]
  }
 ],
 "metadata": {
  "language_info": {
   "name": "python"
  }
 },
 "nbformat": 4,
 "nbformat_minor": 2
}
